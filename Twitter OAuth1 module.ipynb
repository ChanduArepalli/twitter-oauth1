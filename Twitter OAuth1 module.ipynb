{
 "cells": [
  {
   "cell_type": "markdown",
   "id": "a19eb318",
   "metadata": {},
   "source": [
    "## Custom Module for Twitter OAuth1"
   ]
  },
  {
   "cell_type": "markdown",
   "id": "fb9c7bc2",
   "metadata": {},
   "source": [
    "### 3-legged OAuth\n",
    "\n",
    "This section supplements Twitter’s 3-legged OAuth flow documentation.\n",
    "\n",
    "To authenticate as a user other than your developer account, you’ll need to obtain their access tokens through the 3-legged OAuth flow.\n",
    "\n",
    "First, you’ll need to turn on OAuth 1.0 under the User authentication settings section of your app’s Settings tab under the Twitter Developer Portal Projects & Apps page. To do this, you’ll need to provide a Callback / Redirect URI / URL.\n",
    "\n",
    "Then, you’ll need the app’s API / `consumer key` and `secret` that can be found through your app’s Keys and Tokens tab under the Twitter Developer Portal Projects & Apps page."
   ]
  },
  {
   "cell_type": "code",
   "execution_count": 3,
   "id": "49df2052",
   "metadata": {},
   "outputs": [],
   "source": [
    "import tweepy"
   ]
  },
  {
   "cell_type": "code",
   "execution_count": 4,
   "id": "4a30d309",
   "metadata": {},
   "outputs": [],
   "source": [
    "\n",
    "class TwitterOAuth1:\n",
    "    def __init__(self, consumer_key, consumer_secret, callback_url='oob', oauth_token=None, oauth_token_secret=None):\n",
    "        self.consumer_key = consumer_key # consumer_key from the Twitter Devloper portal\n",
    "        self.consumer_secret = consumer_secret # consumer_key from the Twitter Devloper portal\n",
    "        self.callback_url = callback_url # Priority add to add `CallBack URLs` at Twitter Devloper portal\n",
    "        self.oauth_token = oauth_token # Token of OAuth1UserHandler.get_authorization_url()\n",
    "        self.oauth_token_secret = oauth_token_secret # Token Secret of OAuth1UserHandler.get_authorization_url()\n",
    "        self.access_token = None  # Access_Token is the KEY for twitter account access of Authorized Accounts\n",
    "        self.access_token_secret = None # Access_Token_SECRET is the SECRET_KEY for twitter account access of Authorized Accounts\n",
    "        \n",
    "    def oauth1_user_handler(self):\n",
    "        \n",
    "        # inititate OAuth1UserHandler\n",
    "        return tweepy.OAuth1UserHandler(\n",
    "            CONSUMER_KEY, CONSUMER_SECRET,\n",
    "            callback=CALLBACK\n",
    "        )\n",
    "    def get_authorization_url_for_client(self):\n",
    "        oauth1_user_handler = self.oauth1_user_handler()\n",
    "        # Generate the Authorization URL of Twitter account for Code level access\n",
    "        authorization_url = oauth1_user_handler.get_authorization_url()\n",
    "        self.oauth_token = oauth1_user_handler.request_token['oauth_token']\n",
    "        self.oauth_token_secret = oauth1_user_handler.request_token['oauth_token_secret']\n",
    "        return authorization_url\n",
    "    \n",
    "    def signature_verify_with_verifier(self, oauth_verifier):\n",
    "        \n",
    "        # inititate OAuth1UserHandler\n",
    "        oauth1_user_handler = self.oauth1_user_handler()\n",
    "        oauth1_user_handler.request_token = {\n",
    "            \"oauth_token\": self.oauth_token,\n",
    "            \"oauth_token_secret\": self.oauth_token_secret\n",
    "        }\n",
    "        self.access_token, self.access_token_secret = (\n",
    "            oauth1_user_handler.get_access_token(oauth_verifier)\n",
    "        )\n",
    "        return self.access_token, self.access_token_secret\n"
   ]
  },
  {
   "cell_type": "markdown",
   "id": "e9852754",
   "metadata": {},
   "source": [
    "## Example"
   ]
  },
  {
   "cell_type": "markdown",
   "id": "dd27fa14",
   "metadata": {},
   "source": [
    "### Step 1: Authorization Request Code"
   ]
  },
  {
   "cell_type": "code",
   "execution_count": 9,
   "id": "6675ca0f",
   "metadata": {},
   "outputs": [],
   "source": [
    "CONSUMER_KEY = \"<consumer key from Twitter App>\"\n",
    "CONSUMER_SECRET = \"<consumer SECRET from Twitter App>\"\n",
    "CALLBACK = \"https://www.callback.url\""
   ]
  },
  {
   "cell_type": "code",
   "execution_count": 11,
   "id": "832043ec",
   "metadata": {},
   "outputs": []
    }
   ],
   "source": [
    "twitter_oauth1 = TwitterOAuth1(\n",
    "    consumer_key=CONSUMER_KEY,\n",
    "    consumer_secret=CONSUMER_SECRET,\n",
    "    callback_url=CALLBACK\n",
    ")\n",
    "authorization_url = twitter_oauth1.get_authorization_url_for_client()\n",
    "\n",
    "# To be save in DB\n",
    "oauth_token = twitter_oauth1.oauth_token\n",
    "oauth_token_secret = twitter_oauth1.oauth_token_secret\n",
    "\n",
    "print(f\"authorization_url: {authorization_url}\")\n",
    "print(f\"oauth_token: {oauth_token}\")\n",
    "print(f\"oauth_token_secret: {oauth_token_secret}\")"
   ]
  },
  {
   "cell_type": "markdown",
   "id": "b2cb16bb",
   "metadata": {},
   "source": [
    "#### Callback URL"
   ]
  },
  {
   "cell_type": "markdown",
   "id": "d95dcf1d",
   "metadata": {},
   "source": [
    "`http://127.0.0.1:8000/twitter/callback/?oauth_token=FEjcSgAAAAABlnTDAAABhiso1uM&oauth_verifier=uaskiMkVDIVDaLZarPyX8HmfHzi1TNvv`"
   ]
  },
  {
   "cell_type": "markdown",
   "id": "22e6c6d2",
   "metadata": {},
   "source": [
    "### Callback Code"
   ]
  },
  {
   "cell_type": "code",
   "execution_count": null,
   "id": "5fbf06ae",
   "metadata": {},
   "outputs": [],
   "source": [
    "oauth_token = \"<oauth_token value which save from above function>\" # From DB\n",
    "oauth_token_secret = \"<oauth_token_secret value which save from above function>\" # From DB\n",
    "oauth_verifier = \"<oauth_verifier from the callback url>\" # From URL\n",
    "\n",
    "new_twitter_oauth1 = TwitterOAuth1(\n",
    "    # From Env\n",
    "    consumer_key=CONSUMER_KEY,\n",
    "    consumer_secret=CONSUMER_SECRET,\n",
    "    callback_url=CALLBACK,\n",
    "    # From DB\n",
    "    oauth_token=oauth_token,\n",
    "    oauth_token_secret=oauth_token_secret\n",
    ")\n",
    "\n",
    "access_key, access_secret = new_twitter_oauth1.signature_verify_with_verifier(oauth_verifier)\n",
    "print(f\"access_key: {access_key}\")\n",
    "print(f\"access_secret: {access_secret}\")"
   ]
  }
 ],
 "metadata": {
  "kernelspec": {
   "display_name": "Python 3 (ipykernel)",
   "language": "python",
   "name": "python3"
  },
  "language_info": {
   "codemirror_mode": {
    "name": "ipython",
    "version": 3
   },
   "file_extension": ".py",
   "mimetype": "text/x-python",
   "name": "python",
   "nbconvert_exporter": "python",
   "pygments_lexer": "ipython3",
   "version": "3.10.6"
  }
 },
 "nbformat": 4,
 "nbformat_minor": 5
}
