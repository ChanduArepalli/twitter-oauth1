{
 "cells": [
  {
   "cell_type": "markdown",
   "id": "a19eb318",
   "metadata": {},
   "source": [
    "## Custom Module for Twitter OAuth1"
   ]
  },
  {
   "cell_type": "markdown",
   "id": "fb9c7bc2",
   "metadata": {},
   "source": [
    "### 3-legged OAuth\n",
    "\n",
    "This section supplements Twitter’s 3-legged OAuth flow documentation.\n",
    "\n",
    "To authenticate as a user other than your developer account, you’ll need to obtain their access tokens through the 3-legged OAuth flow.\n",
    "\n",
    "First, you’ll need to turn on OAuth 1.0 under the User authentication settings section of your app’s Settings tab under the Twitter Developer Portal Projects & Apps page. To do this, you’ll need to provide a Callback / Redirect URI / URL.\n",
    "\n",
    "Then, you’ll need the app’s API / `consumer key` and `secret` that can be found through your app’s Keys and Tokens tab under the Twitter Developer Portal Projects & Apps page."
   ]
  },
  {
   "cell_type": "code",
   "execution_count": 3,
   "id": "49df2052",
   "metadata": {},
   "outputs": [],
   "source": [
    "import tweepy"
   ]
  },
  {
   "cell_type": "code",
   "execution_count": 4,
   "id": "4a30d309",
   "metadata": {},
   "outputs": [],
   "source": [
    "\n",
    "class TwitterOAuth1:\n",
    "    def __init__(self, consumer_key, consumer_secret, callback_url='oob', oauth_token=None, oauth_token_secret=None):\n",
    "        self.consumer_key = consumer_key # consumer_key from the Twitter Devloper portal\n",
    "        self.consumer_secret = consumer_secret # consumer_key from the Twitter Devloper portal\n",
    "        self.callback_url = callback_url # Priority add to add `CallBack URLs` at Twitter Devloper portal\n",
    "        self.oauth_token = oauth_token # Token of OAuth1UserHandler.get_authorization_url()\n",
    "        self.oauth_token_secret = oauth_token_secret # Token Secret of OAuth1UserHandler.get_authorization_url()\n",
    "        self.access_token = None  # Access_Token is the KEY for twitter account access of Authorized Accounts\n",
    "        self.access_token_secret = None # Access_Token_SECRET is the SECRET_KEY for twitter account access of Authorized Accounts\n",
    "        \n",
    "    def oauth1_user_handler(self):\n",
    "        \n",
    "        # inititate OAuth1UserHandler\n",
    "        return tweepy.OAuth1UserHandler(\n",
    "            CONSUMER_KEY, CONSUMER_SECRET,\n",
    "            callback=CALLBACK\n",
    "        )\n",
    "    def get_authorization_url_for_client(self):\n",
    "        oauth1_user_handler = self.oauth1_user_handler()\n",
    "        # Generate the Authorization URL of Twitter account for Code level access\n",
    "        authorization_url = oauth1_user_handler.get_authorization_url()\n",
    "        self.oauth_token = oauth1_user_handler.request_token['oauth_token']\n",
    "        self.oauth_token_secret = oauth1_user_handler.request_token['oauth_token_secret']\n",
    "        return authorization_url\n",
    "    \n",
    "    def signature_verify_with_verifier(self, oauth_verifier):\n",
    "        \n",
    "        # inititate OAuth1UserHandler\n",
    "        oauth1_user_handler = self.oauth1_user_handler()\n",
    "        oauth1_user_handler.request_token = {\n",
    "            \"oauth_token\": self.oauth_token,\n",
    "            \"oauth_token_secret\": self.oauth_token_secret\n",
    "        }\n",
    "        self.access_token, self.access_token_secret = (\n",
    "            oauth1_user_handler.get_access_token(oauth_verifier)\n",
    "        )\n",
    "        return self.access_token, self.access_token_secret\n"
   ]
  },
  {
   "cell_type": "markdown",
   "id": "e9852754",
   "metadata": {},
   "source": [
    "## Example"
   ]
  },
  {
   "cell_type": "markdown",
   "id": "dd27fa14",
   "metadata": {},
   "source": [
    "### Step 1: Authorization Request Code"
   ]
  },
  {
   "cell_type": "code",
   "execution_count": 9,
   "id": "6675ca0f",
   "metadata": {},
   "outputs": [],
   "source": [
    "CONSUMER_KEY = \"<consumer key from Twitter App>\"\n",
    "CONSUMER_SECRET = \"<consumer SECRET from Twitter App>\"\n",
    "CALLBACK = \"https://www.callback.url\""
   ]
  },
  {
   "cell_type": "code",
   "execution_count": 11,
   "id": "832043ec",
   "metadata": {},
   "outputs": [
    {
     "ename": "TweepyException",
     "evalue": "Token request failed with code 401, response was '{\"errors\":[{\"code\":32,\"message\":\"Could not authenticate you.\"}]}'.",
     "output_type": "error",
     "traceback": [
      "\u001b[0;31m---------------------------------------------------------------------------\u001b[0m",
      "\u001b[0;31mTokenRequestDenied\u001b[0m                        Traceback (most recent call last)",
      "File \u001b[0;32m~/Documents/local/env/lib/python3.10/site-packages/tweepy/auth.py:62\u001b[0m, in \u001b[0;36mOAuth1UserHandler._get_request_token\u001b[0;34m(self, access_type)\u001b[0m\n\u001b[1;32m     61\u001b[0m         url \u001b[38;5;241m+\u001b[39m\u001b[38;5;241m=\u001b[39m \u001b[38;5;124mf\u001b[39m\u001b[38;5;124m'\u001b[39m\u001b[38;5;124m?x_auth_access_type=\u001b[39m\u001b[38;5;132;01m{\u001b[39;00maccess_type\u001b[38;5;132;01m}\u001b[39;00m\u001b[38;5;124m'\u001b[39m\n\u001b[0;32m---> 62\u001b[0m     \u001b[38;5;28;01mreturn\u001b[39;00m \u001b[38;5;28;43mself\u001b[39;49m\u001b[38;5;241;43m.\u001b[39;49m\u001b[43moauth\u001b[49m\u001b[38;5;241;43m.\u001b[39;49m\u001b[43mfetch_request_token\u001b[49m\u001b[43m(\u001b[49m\u001b[43murl\u001b[49m\u001b[43m)\u001b[49m\n\u001b[1;32m     63\u001b[0m \u001b[38;5;28;01mexcept\u001b[39;00m \u001b[38;5;167;01mException\u001b[39;00m \u001b[38;5;28;01mas\u001b[39;00m e:\n",
      "File \u001b[0;32m~/Documents/local/env/lib/python3.10/site-packages/requests_oauthlib/oauth1_session.py:287\u001b[0m, in \u001b[0;36mOAuth1Session.fetch_request_token\u001b[0;34m(self, url, realm, **request_kwargs)\u001b[0m\n\u001b[1;32m    286\u001b[0m \u001b[38;5;28mself\u001b[39m\u001b[38;5;241m.\u001b[39m_client\u001b[38;5;241m.\u001b[39mclient\u001b[38;5;241m.\u001b[39mrealm \u001b[38;5;241m=\u001b[39m \u001b[38;5;124m\"\u001b[39m\u001b[38;5;124m \u001b[39m\u001b[38;5;124m\"\u001b[39m\u001b[38;5;241m.\u001b[39mjoin(realm) \u001b[38;5;28;01mif\u001b[39;00m realm \u001b[38;5;28;01melse\u001b[39;00m \u001b[38;5;28;01mNone\u001b[39;00m\n\u001b[0;32m--> 287\u001b[0m token \u001b[38;5;241m=\u001b[39m \u001b[38;5;28;43mself\u001b[39;49m\u001b[38;5;241;43m.\u001b[39;49m\u001b[43m_fetch_token\u001b[49m\u001b[43m(\u001b[49m\u001b[43murl\u001b[49m\u001b[43m,\u001b[49m\u001b[43m \u001b[49m\u001b[38;5;241;43m*\u001b[39;49m\u001b[38;5;241;43m*\u001b[39;49m\u001b[43mrequest_kwargs\u001b[49m\u001b[43m)\u001b[49m\n\u001b[1;32m    288\u001b[0m log\u001b[38;5;241m.\u001b[39mdebug(\u001b[38;5;124m\"\u001b[39m\u001b[38;5;124mResetting callback_uri and realm (not needed in next phase).\u001b[39m\u001b[38;5;124m\"\u001b[39m)\n",
      "File \u001b[0;32m~/Documents/local/env/lib/python3.10/site-packages/requests_oauthlib/oauth1_session.py:369\u001b[0m, in \u001b[0;36mOAuth1Session._fetch_token\u001b[0;34m(self, url, **request_kwargs)\u001b[0m\n\u001b[1;32m    368\u001b[0m     error \u001b[38;5;241m=\u001b[39m \u001b[38;5;124m\"\u001b[39m\u001b[38;5;124mToken request failed with code \u001b[39m\u001b[38;5;132;01m%s\u001b[39;00m\u001b[38;5;124m, response was \u001b[39m\u001b[38;5;124m'\u001b[39m\u001b[38;5;132;01m%s\u001b[39;00m\u001b[38;5;124m'\u001b[39m\u001b[38;5;124m.\u001b[39m\u001b[38;5;124m\"\u001b[39m\n\u001b[0;32m--> 369\u001b[0m     \u001b[38;5;28;01mraise\u001b[39;00m TokenRequestDenied(error \u001b[38;5;241m%\u001b[39m (r\u001b[38;5;241m.\u001b[39mstatus_code, r\u001b[38;5;241m.\u001b[39mtext), r)\n\u001b[1;32m    371\u001b[0m log\u001b[38;5;241m.\u001b[39mdebug(\u001b[38;5;124m'\u001b[39m\u001b[38;5;124mDecoding token from response \u001b[39m\u001b[38;5;124m\"\u001b[39m\u001b[38;5;132;01m%s\u001b[39;00m\u001b[38;5;124m\"\u001b[39m\u001b[38;5;124m'\u001b[39m, r\u001b[38;5;241m.\u001b[39mtext)\n",
      "\u001b[0;31mTokenRequestDenied\u001b[0m: Token request failed with code 401, response was '{\"errors\":[{\"code\":32,\"message\":\"Could not authenticate you.\"}]}'.",
      "\nDuring handling of the above exception, another exception occurred:\n",
      "\u001b[0;31mTweepyException\u001b[0m                           Traceback (most recent call last)",
      "File \u001b[0;32m~/Documents/local/env/lib/python3.10/site-packages/tweepy/auth.py:76\u001b[0m, in \u001b[0;36mOAuth1UserHandler.get_authorization_url\u001b[0;34m(self, signin_with_twitter, access_type)\u001b[0m\n\u001b[1;32m     75\u001b[0m     url \u001b[38;5;241m=\u001b[39m \u001b[38;5;28mself\u001b[39m\u001b[38;5;241m.\u001b[39m_get_oauth_url(\u001b[38;5;124m'\u001b[39m\u001b[38;5;124mauthorize\u001b[39m\u001b[38;5;124m'\u001b[39m)\n\u001b[0;32m---> 76\u001b[0m \u001b[38;5;28mself\u001b[39m\u001b[38;5;241m.\u001b[39mrequest_token \u001b[38;5;241m=\u001b[39m \u001b[38;5;28;43mself\u001b[39;49m\u001b[38;5;241;43m.\u001b[39;49m\u001b[43m_get_request_token\u001b[49m\u001b[43m(\u001b[49m\n\u001b[1;32m     77\u001b[0m \u001b[43m    \u001b[49m\u001b[43maccess_type\u001b[49m\u001b[38;5;241;43m=\u001b[39;49m\u001b[43maccess_type\u001b[49m\n\u001b[1;32m     78\u001b[0m \u001b[43m\u001b[49m\u001b[43m)\u001b[49m\n\u001b[1;32m     79\u001b[0m \u001b[38;5;28;01mreturn\u001b[39;00m \u001b[38;5;28mself\u001b[39m\u001b[38;5;241m.\u001b[39moauth\u001b[38;5;241m.\u001b[39mauthorization_url(url)\n",
      "File \u001b[0;32m~/Documents/local/env/lib/python3.10/site-packages/tweepy/auth.py:64\u001b[0m, in \u001b[0;36mOAuth1UserHandler._get_request_token\u001b[0;34m(self, access_type)\u001b[0m\n\u001b[1;32m     63\u001b[0m \u001b[38;5;28;01mexcept\u001b[39;00m \u001b[38;5;167;01mException\u001b[39;00m \u001b[38;5;28;01mas\u001b[39;00m e:\n\u001b[0;32m---> 64\u001b[0m     \u001b[38;5;28;01mraise\u001b[39;00m TweepyException(e)\n",
      "\u001b[0;31mTweepyException\u001b[0m: Token request failed with code 401, response was '{\"errors\":[{\"code\":32,\"message\":\"Could not authenticate you.\"}]}'.",
      "\nDuring handling of the above exception, another exception occurred:\n",
      "\u001b[0;31mTweepyException\u001b[0m                           Traceback (most recent call last)",
      "Cell \u001b[0;32mIn[11], line 6\u001b[0m\n\u001b[1;32m      1\u001b[0m twitter_oauth1 \u001b[38;5;241m=\u001b[39m TwitterOAuth1(\n\u001b[1;32m      2\u001b[0m     consumer_key\u001b[38;5;241m=\u001b[39mCONSUMER_KEY,\n\u001b[1;32m      3\u001b[0m     consumer_secret\u001b[38;5;241m=\u001b[39mCONSUMER_SECRET,\n\u001b[1;32m      4\u001b[0m     callback_url\u001b[38;5;241m=\u001b[39mCALLBACK\n\u001b[1;32m      5\u001b[0m )\n\u001b[0;32m----> 6\u001b[0m authorization_url \u001b[38;5;241m=\u001b[39m \u001b[43mtwitter_oauth1\u001b[49m\u001b[38;5;241;43m.\u001b[39;49m\u001b[43mget_authorization_url_for_client\u001b[49m\u001b[43m(\u001b[49m\u001b[43m)\u001b[49m\n\u001b[1;32m      8\u001b[0m \u001b[38;5;66;03m# To be save in DB\u001b[39;00m\n\u001b[1;32m      9\u001b[0m oauth_token \u001b[38;5;241m=\u001b[39m twitter_oauth1\u001b[38;5;241m.\u001b[39moauth_token\n",
      "Cell \u001b[0;32mIn[4], line 21\u001b[0m, in \u001b[0;36mTwitterOAuth1.get_authorization_url_for_client\u001b[0;34m(self)\u001b[0m\n\u001b[1;32m     19\u001b[0m oauth1_user_handler \u001b[38;5;241m=\u001b[39m \u001b[38;5;28mself\u001b[39m\u001b[38;5;241m.\u001b[39moauth1_user_handler()\n\u001b[1;32m     20\u001b[0m \u001b[38;5;66;03m# Generate the Authorization URL of Twitter account for Code level access\u001b[39;00m\n\u001b[0;32m---> 21\u001b[0m authorization_url \u001b[38;5;241m=\u001b[39m \u001b[43moauth1_user_handler\u001b[49m\u001b[38;5;241;43m.\u001b[39;49m\u001b[43mget_authorization_url\u001b[49m\u001b[43m(\u001b[49m\u001b[43m)\u001b[49m\n\u001b[1;32m     22\u001b[0m \u001b[38;5;28mself\u001b[39m\u001b[38;5;241m.\u001b[39moauth_token \u001b[38;5;241m=\u001b[39m oauth1_user_handler\u001b[38;5;241m.\u001b[39mrequest_token[\u001b[38;5;124m'\u001b[39m\u001b[38;5;124moauth_token\u001b[39m\u001b[38;5;124m'\u001b[39m]\n\u001b[1;32m     23\u001b[0m \u001b[38;5;28mself\u001b[39m\u001b[38;5;241m.\u001b[39moauth_token_secret \u001b[38;5;241m=\u001b[39m oauth1_user_handler\u001b[38;5;241m.\u001b[39mrequest_token[\u001b[38;5;124m'\u001b[39m\u001b[38;5;124moauth_token_secret\u001b[39m\u001b[38;5;124m'\u001b[39m]\n",
      "File \u001b[0;32m~/Documents/local/env/lib/python3.10/site-packages/tweepy/auth.py:81\u001b[0m, in \u001b[0;36mOAuth1UserHandler.get_authorization_url\u001b[0;34m(self, signin_with_twitter, access_type)\u001b[0m\n\u001b[1;32m     79\u001b[0m     \u001b[38;5;28;01mreturn\u001b[39;00m \u001b[38;5;28mself\u001b[39m\u001b[38;5;241m.\u001b[39moauth\u001b[38;5;241m.\u001b[39mauthorization_url(url)\n\u001b[1;32m     80\u001b[0m \u001b[38;5;28;01mexcept\u001b[39;00m \u001b[38;5;167;01mException\u001b[39;00m \u001b[38;5;28;01mas\u001b[39;00m e:\n\u001b[0;32m---> 81\u001b[0m     \u001b[38;5;28;01mraise\u001b[39;00m TweepyException(e)\n",
      "\u001b[0;31mTweepyException\u001b[0m: Token request failed with code 401, response was '{\"errors\":[{\"code\":32,\"message\":\"Could not authenticate you.\"}]}'."
     ]
    }
   ],
   "source": [
    "twitter_oauth1 = TwitterOAuth1(\n",
    "    consumer_key=CONSUMER_KEY,\n",
    "    consumer_secret=CONSUMER_SECRET,\n",
    "    callback_url=CALLBACK\n",
    ")\n",
    "authorization_url = twitter_oauth1.get_authorization_url_for_client()\n",
    "\n",
    "# To be save in DB\n",
    "oauth_token = twitter_oauth1.oauth_token\n",
    "oauth_token_secret = twitter_oauth1.oauth_token_secret\n",
    "\n",
    "print(f\"authorization_url: {authorization_url}\")\n",
    "print(f\"oauth_token: {oauth_token}\")\n",
    "print(f\"oauth_token_secret: {oauth_token_secret}\")"
   ]
  },
  {
   "cell_type": "markdown",
   "id": "b2cb16bb",
   "metadata": {},
   "source": [
    "#### Callback URL"
   ]
  },
  {
   "cell_type": "markdown",
   "id": "d95dcf1d",
   "metadata": {},
   "source": [
    "`http://127.0.0.1:8000/twitter/callback/?oauth_token=FEjcSgAAAAABlnTDAAABhiso1uM&oauth_verifier=uaskiMkVDIVDaLZarPyX8HmfHzi1TNvv`"
   ]
  },
  {
   "cell_type": "markdown",
   "id": "22e6c6d2",
   "metadata": {},
   "source": [
    "### Callback Code"
   ]
  },
  {
   "cell_type": "code",
   "execution_count": null,
   "id": "5fbf06ae",
   "metadata": {},
   "outputs": [],
   "source": [
    "oauth_token = \"<oauth_token value which save from above function>\" # From DB\n",
    "oauth_token_secret = \"<oauth_token_secret value which save from above function>\" # From DB\n",
    "oauth_verifier = \"<oauth_verifier from the callback url>\" # From URL\n",
    "\n",
    "new_twitter_oauth1 = TwitterOAuth1(\n",
    "    # From Env\n",
    "    consumer_key=CONSUMER_KEY,\n",
    "    consumer_secret=CONSUMER_SECRET,\n",
    "    callback_url=CALLBACK,\n",
    "    # From DB\n",
    "    oauth_token=oauth_token,\n",
    "    oauth_token_secret=oauth_token_secret\n",
    ")\n",
    "\n",
    "access_key, access_secret = new_twitter_oauth1.signature_verify_with_verifier(oauth_verifier)\n",
    "print(f\"access_key: {access_key}\")\n",
    "print(f\"access_secret: {access_secret}\")"
   ]
  }
 ],
 "metadata": {
  "kernelspec": {
   "display_name": "Python 3 (ipykernel)",
   "language": "python",
   "name": "python3"
  },
  "language_info": {
   "codemirror_mode": {
    "name": "ipython",
    "version": 3
   },
   "file_extension": ".py",
   "mimetype": "text/x-python",
   "name": "python",
   "nbconvert_exporter": "python",
   "pygments_lexer": "ipython3",
   "version": "3.10.6"
  }
 },
 "nbformat": 4,
 "nbformat_minor": 5
}
